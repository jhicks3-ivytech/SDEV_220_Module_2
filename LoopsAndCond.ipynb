{
 "cells": [
  {
   "cell_type": "markdown",
   "id": "6d7aec81-3cf8-4d37-9b05-187aec8393fe",
   "metadata": {},
   "source": [
    "John Hicks\n",
    "Module 2 Programming Assignment - Loops and Conditionals\n",
    "1/18/2025"
   ]
  },
  {
   "cell_type": "markdown",
   "id": "2985ac4f-63a1-4207-aed5-bbf01e586923",
   "metadata": {},
   "source": [
    "4.1 Choose a number between 1 and 10 and assign it to the variable secret. Then, select another number between 1 and 10 and assign it to the variable guess. Next, write the conditional tests (if, else, and elif) to print the string 'too low' if guess is less than secret, 'too high' if greater than secret, and 'just right' if equal to secret."
   ]
  },
  {
   "cell_type": "code",
   "execution_count": 2,
   "id": "832f57e2-00f5-4103-81f0-9d657adab6f4",
   "metadata": {
    "scrolled": true
   },
   "outputs": [
    {
     "name": "stdin",
     "output_type": "stream",
     "text": [
      "Guess a number from 1 - 10:  6\n"
     ]
    },
    {
     "name": "stdout",
     "output_type": "stream",
     "text": [
      "too high\n"
     ]
    }
   ],
   "source": [
    "secret = 5\n",
    "guess = int(input(\"Guess a number from 1 - 10: \"))\n",
    "if guess == secret:\n",
    "    print(\"just right\")\n",
    "elif guess < secret:\n",
    "    print(\"too low\")\n",
    "else:\n",
    "    print(\"too high\")"
   ]
  },
  {
   "cell_type": "markdown",
   "id": "9902ecc2-d5d8-48bb-8d28-b0ff4eb70d97",
   "metadata": {},
   "source": [
    "4.2 Assign True or False to the variables small and green. Write some if/else statements to print which of these matches those choices: cherry, pea, watermelon, pumpkin."
   ]
  },
  {
   "cell_type": "code",
   "execution_count": 13,
   "id": "a2ca907e-ee39-4ae7-b429-205f6903c96e",
   "metadata": {},
   "outputs": [
    {
     "name": "stdin",
     "output_type": "stream",
     "text": [
      "True or False:  False\n",
      "True or False:  False\n"
     ]
    },
    {
     "name": "stdout",
     "output_type": "stream",
     "text": [
      "pumpkin\n"
     ]
    }
   ],
   "source": [
    "smallInput = input(\"True or False: \")\n",
    "if smallInput.lower() == \"false\":\n",
    "    small = False\n",
    "else:\n",
    "    small = True\n",
    "greenInput = input(\"True or False: \")\n",
    "if greenInput.lower() == \"false\":\n",
    "    green = False\n",
    "else:\n",
    "    green = True\n",
    "if small:\n",
    "    if green:\n",
    "        print(\"pea\")\n",
    "    else:\n",
    "        print(\"cherry\")\n",
    "else:\n",
    "    if green:\n",
    "        print(\"watermellon\")\n",
    "    else:\n",
    "        print(\"pumpkin\")"
   ]
  },
  {
   "cell_type": "markdown",
   "id": "420ddabb-9f57-4bbf-8a7b-5cc252ebb14c",
   "metadata": {},
   "source": [
    "6.1 Use a for loop to print the values of the list [3, 2, 1, 0].\n",
    "\n"
   ]
  },
  {
   "cell_type": "code",
   "execution_count": 17,
   "id": "e0aa67d2-656b-4538-8fba-28809ffb3d45",
   "metadata": {},
   "outputs": [
    {
     "name": "stdout",
     "output_type": "stream",
     "text": [
      "3\n",
      "2\n",
      "1\n",
      "0\n"
     ]
    }
   ],
   "source": [
    "for i in range(3,-1,-1):\n",
    "    print(i)"
   ]
  },
  {
   "cell_type": "markdown",
   "id": "1ff440ff-1f9a-4197-a16a-bf84650b22c7",
   "metadata": {},
   "source": [
    "6.2 Assign the value 7 to the variable guess_me, and the value 1 to the variable number. Write a while loop that compares number with guess_me. Print 'too low' if number is less than guess me. If number equals guess_me, print 'found it!' and then exit the loop. If number is greater than guess_me, print 'oops' and then exit the loop. Increment number at the end of the loop."
   ]
  },
  {
   "cell_type": "code",
   "execution_count": 21,
   "id": "d3c71868-ab89-4a2a-beaf-7ffa0d6162c2",
   "metadata": {},
   "outputs": [
    {
     "name": "stdout",
     "output_type": "stream",
     "text": [
      "too low\n",
      "too low\n",
      "too low\n",
      "too low\n",
      "too low\n",
      "too low\n",
      "found it\n"
     ]
    }
   ],
   "source": [
    "guess_me = 7\n",
    "number = 1\n",
    "while True:\n",
    "    if number < guess_me:\n",
    "        print(\"too low\")\n",
    "    elif number == guess_me:\n",
    "        print(\"found it\")\n",
    "        break\n",
    "    else:\n",
    "        print(oops)\n",
    "    number += 1\n",
    "    "
   ]
  },
  {
   "cell_type": "markdown",
   "id": "54257bd5-9fd3-4fc4-8feb-582fd95305a5",
   "metadata": {},
   "source": [
    "6.3 Assign the value 5 to the variable guess_me. Use a for loop to iterate a variable called number over range(10). If number is less than guess_me, print 'too low'. If it equals guess_me, print found it! and then break out of the for loop. If number is greater than guess_me, print 'oops' and then exit the loop."
   ]
  },
  {
   "cell_type": "code",
   "execution_count": 23,
   "id": "68cf1efd-54dd-4c66-9a80-63c41fb1ed24",
   "metadata": {},
   "outputs": [
    {
     "name": "stdout",
     "output_type": "stream",
     "text": [
      "too low\n",
      "too low\n",
      "too low\n",
      "too low\n",
      "too low\n",
      "found it\n"
     ]
    }
   ],
   "source": [
    "guess_me = 5\n",
    "for number in range(10):\n",
    "    if number < guess_me:\n",
    "        print(\"too low\")\n",
    "    elif number == guess_me:\n",
    "        print(\"found it\")\n",
    "        break\n",
    "    else:\n",
    "        print(\"oops\")\n",
    "    "
   ]
  },
  {
   "cell_type": "code",
   "execution_count": null,
   "id": "c47a8dde-3e46-410e-9072-b4372c8fc9aa",
   "metadata": {},
   "outputs": [],
   "source": []
  }
 ],
 "metadata": {
  "kernelspec": {
   "display_name": "Python [conda env:base] *",
   "language": "python",
   "name": "conda-base-py"
  },
  "language_info": {
   "codemirror_mode": {
    "name": "ipython",
    "version": 3
   },
   "file_extension": ".py",
   "mimetype": "text/x-python",
   "name": "python",
   "nbconvert_exporter": "python",
   "pygments_lexer": "ipython3",
   "version": "3.12.7"
  }
 },
 "nbformat": 4,
 "nbformat_minor": 5
}
